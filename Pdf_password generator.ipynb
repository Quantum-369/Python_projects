{
 "cells": [
  {
   "cell_type": "markdown",
   "metadata": {},
   "source": [
    "# pdf password generator"
   ]
  },
  {
   "cell_type": "code",
   "execution_count": 6,
   "metadata": {},
   "outputs": [
    {
     "name": "stdout",
     "output_type": "stream",
     "text": [
      "Enter the length of password15\n",
      "u3@*Hqx?k4G0asD\n"
     ]
    }
   ],
   "source": [
    "### In this we will randomly generate password of any chosen length and we will put that password to a pdf to protect.\n",
    "\n",
    "# import random library \n",
    "import random \n",
    "# ask for passowrd length\n",
    "password_length = int(input(\"Enter the length of password\"))\n",
    "#give the letter to chose from\n",
    "chose_from=\"abcdefghijklmnopqrstuvwxyz01234567890ABCDEFGHIJKLMNOPQRSTUVWXYZ!@#$%^&*()?\"\n",
    "# create an  empty variable of free size then do random sampling of letters and join the length of password and given letters.\n",
    "Password = \"\".join(random.sample(chose_from,password_length ))\n",
    "print(Password)"
   ]
  },
  {
   "cell_type": "code",
   "execution_count": null,
   "metadata": {},
   "outputs": [],
   "source": [
    "## Here we will use above generated password to encrypt the pdf.\n",
    "## first install pypdf2 library.\n",
    "!pip install pypdf2\n"
   ]
  },
  {
   "cell_type": "code",
   "execution_count": 1,
   "metadata": {},
   "outputs": [],
   "source": [
    "from PyPDF2 import PdfFileReader, PdfFileWriter"
   ]
  },
  {
   "cell_type": "code",
   "execution_count": 3,
   "metadata": {},
   "outputs": [],
   "source": [
    "## open the pdf file\n",
    "file_pdf= PdfFileReader('10th MARK LIST.pdf')\n",
    "## object for pdf\n",
    "out_pdf=PdfFileWriter()"
   ]
  },
  {
   "cell_type": "code",
   "execution_count": 5,
   "metadata": {},
   "outputs": [],
   "source": [
    "#for i in range(file_pdf.numPages):\n",
    "   # page_details=file_pdf.getPage(i)\n",
    "    ##add to the output page\n",
    "   # out_pdf.addPage(page_details)"
   ]
  },
  {
   "cell_type": "code",
   "execution_count": 7,
   "metadata": {},
   "outputs": [],
   "source": [
    "password=\"u3@*Hqx?k4G0asD\"\n",
    "\n",
    "out_pdf.encrypt(password)"
   ]
  },
  {
   "cell_type": "code",
   "execution_count": 8,
   "metadata": {},
   "outputs": [],
   "source": [
    "with open (\"encrypted 10th mark List.pdf\",\"wb\") as filename:\n",
    "    out_pdf.write(filename)"
   ]
  },
  {
   "cell_type": "code",
   "execution_count": null,
   "metadata": {},
   "outputs": [],
   "source": []
  }
 ],
 "metadata": {
  "kernelspec": {
   "display_name": "Python 3",
   "language": "python",
   "name": "python3"
  },
  "language_info": {
   "codemirror_mode": {
    "name": "ipython",
    "version": 3
   },
   "file_extension": ".py",
   "mimetype": "text/x-python",
   "name": "python",
   "nbconvert_exporter": "python",
   "pygments_lexer": "ipython3",
   "version": "3.7.4"
  }
 },
 "nbformat": 4,
 "nbformat_minor": 2
}
