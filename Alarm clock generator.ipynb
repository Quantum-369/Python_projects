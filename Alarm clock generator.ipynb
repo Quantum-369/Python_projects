{
 "cells": [
  {
   "cell_type": "markdown",
   "metadata": {},
   "source": [
    "# Alarm generator"
   ]
  },
  {
   "cell_type": "code",
   "execution_count": 4,
   "metadata": {},
   "outputs": [
    {
     "name": "stdout",
     "output_type": "stream",
     "text": [
      "10:18:19 00:00:00\n",
      "10:18:19 00:00:00\n",
      "10:18:20 00:00:00\n",
      "10:18:20 00:00:00\n",
      "10:18:20 00:00:00\n",
      "10:18:21 00:00:00\n",
      "10:18:21 00:00:00\n",
      "10:18:21 00:00:00\n",
      "10:18:22 00:00:00\n"
     ]
    },
    {
     "name": "stderr",
     "output_type": "stream",
     "text": [
      "Exception in thread Thread-7:\n",
      "Traceback (most recent call last):\n",
      "  File \"C:\\Users\\harsh\\Anaconda3\\lib\\threading.py\", line 926, in _bootstrap_inner\n",
      "    self.run()\n",
      "  File \"C:\\Users\\harsh\\Anaconda3\\lib\\threading.py\", line 870, in run\n",
      "    self._target(*self._args, **self._kwargs)\n",
      "  File \"<ipython-input-2-1ccdee7d99db>\", line 23, in alarm\n",
      "    set_alarm_time = f\"{hour.get()}:{minute.get()}:{second.get()}\"\n",
      "  File \"C:\\Users\\harsh\\Anaconda3\\lib\\tkinter\\__init__.py\", line 484, in get\n",
      "    value = self._tk.globalgetvar(self._name)\n",
      "RuntimeError: main thread is not in main loop\n",
      "\n",
      "Exception in thread Thread-6:\n",
      "Traceback (most recent call last):\n",
      "  File \"C:\\Users\\harsh\\Anaconda3\\lib\\threading.py\", line 926, in _bootstrap_inner\n",
      "    self.run()\n",
      "  File \"C:\\Users\\harsh\\Anaconda3\\lib\\threading.py\", line 870, in run\n",
      "    self._target(*self._args, **self._kwargs)\n",
      "  File \"<ipython-input-2-1ccdee7d99db>\", line 23, in alarm\n",
      "    set_alarm_time = f\"{hour.get()}:{minute.get()}:{second.get()}\"\n",
      "  File \"C:\\Users\\harsh\\Anaconda3\\lib\\tkinter\\__init__.py\", line 484, in get\n",
      "    value = self._tk.globalgetvar(self._name)\n",
      "RuntimeError: main thread is not in main loop\n",
      "\n",
      "Exception in thread Thread-8:\n",
      "Traceback (most recent call last):\n",
      "  File \"C:\\Users\\harsh\\Anaconda3\\lib\\threading.py\", line 926, in _bootstrap_inner\n",
      "    self.run()\n",
      "  File \"C:\\Users\\harsh\\Anaconda3\\lib\\threading.py\", line 870, in run\n",
      "    self._target(*self._args, **self._kwargs)\n",
      "  File \"<ipython-input-2-1ccdee7d99db>\", line 23, in alarm\n",
      "    set_alarm_time = f\"{hour.get()}:{minute.get()}:{second.get()}\"\n",
      "  File \"C:\\Users\\harsh\\Anaconda3\\lib\\tkinter\\__init__.py\", line 484, in get\n",
      "    value = self._tk.globalgetvar(self._name)\n",
      "RuntimeError: main thread is not in main loop\n",
      "\n"
     ]
    }
   ],
   "source": []
  },
  {
   "cell_type": "code",
   "execution_count": null,
   "metadata": {},
   "outputs": [],
   "source": []
  }
 ],
 "metadata": {
  "kernelspec": {
   "display_name": "Python 3",
   "language": "python",
   "name": "python3"
  },
  "language_info": {
   "codemirror_mode": {
    "name": "ipython",
    "version": 3
   },
   "file_extension": ".py",
   "mimetype": "text/x-python",
   "name": "python",
   "nbconvert_exporter": "python",
   "pygments_lexer": "ipython3",
   "version": "3.7.4"
  }
 },
 "nbformat": 4,
 "nbformat_minor": 2
}
