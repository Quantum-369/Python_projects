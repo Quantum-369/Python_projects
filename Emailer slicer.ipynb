{
 "cells": [
  {
   "cell_type": "markdown",
   "metadata": {},
   "source": [
    "# Email Slicer\n"
   ]
  },
  {
   "cell_type": "code",
   "execution_count": 9,
   "metadata": {},
   "outputs": [
    {
     "name": "stdout",
     "output_type": "stream",
     "text": [
      "Enter the Email:harsha@quantum369.com\n",
      "Your user name is 'harsha' and your domain is 'quantum369.com'\n"
     ]
    }
   ],
   "source": [
    "# the following code will slice the email into username and domine name\n",
    "\n",
    "inpt = input(\"Enter the Email:\").strip() #// strip removes whitespace before and end of the word\n",
    "user_name = inpt[:inpt.index(\"@\")] #// before @ we store it in user_name\n",
    "domain_name = inpt[inpt.index(\"@\")+1:] #// after @ we store it in domain name\n",
    "Email_slice = (f\"Your user name is '{user_name}' and your domain is '{domain_name}'\") #// used .format printing style\n",
    "print(Email_slice)"
   ]
  },
  {
   "cell_type": "code",
   "execution_count": null,
   "metadata": {},
   "outputs": [],
   "source": []
  },
  {
   "cell_type": "code",
   "execution_count": null,
   "metadata": {},
   "outputs": [],
   "source": []
  }
 ],
 "metadata": {
  "kernelspec": {
   "display_name": "Python 3",
   "language": "python",
   "name": "python3"
  },
  "language_info": {
   "codemirror_mode": {
    "name": "ipython",
    "version": 3
   },
   "file_extension": ".py",
   "mimetype": "text/x-python",
   "name": "python",
   "nbconvert_exporter": "python",
   "pygments_lexer": "ipython3",
   "version": "3.7.4"
  }
 },
 "nbformat": 4,
 "nbformat_minor": 2
}
