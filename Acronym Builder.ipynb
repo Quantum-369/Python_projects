{
 "cells": [
  {
   "cell_type": "markdown",
   "metadata": {},
   "source": [
    "# Acronym Builder"
   ]
  },
  {
   "cell_type": "code",
   "execution_count": 18,
   "metadata": {},
   "outputs": [],
   "source": [
    "# The following code will give the acronym of the given word for example United Sates as US\n",
    "# function for acronym generator\n",
    "def acronym(inpt):\n",
    "    # take input form user\n",
    "    inpt = str(input(\"Enter a word: \"))\n",
    "    # split the given word default seprator is any white space\n",
    "    text = inpt.split()\n",
    "    # take a varible to store the first letter of each word\n",
    "    a = \" \"\n",
    "    # create for loop for first letter of the word\n",
    "    for i in text:\n",
    "        a = a+str(i[0]).upper()\n",
    "    print(a)"
   ]
  },
  {
   "cell_type": "code",
   "execution_count": 19,
   "metadata": {},
   "outputs": [
    {
     "name": "stdout",
     "output_type": "stream",
     "text": [
      "Enter a word: Machine learning\n",
      " ML\n"
     ]
    }
   ],
   "source": [
    "acronym(inpt)"
   ]
  },
  {
   "cell_type": "code",
   "execution_count": 17,
   "metadata": {},
   "outputs": [
    {
     "name": "stdout",
     "output_type": "stream",
     "text": [
      "Enter a Phrase: data science\n",
      " DS\n"
     ]
    }
   ],
   "source": [
    "acronym(inpt)"
   ]
  },
  {
   "cell_type": "code",
   "execution_count": null,
   "metadata": {},
   "outputs": [],
   "source": []
  }
 ],
 "metadata": {
  "kernelspec": {
   "display_name": "Python 3",
   "language": "python",
   "name": "python3"
  }
 },
 "nbformat": 4,
 "nbformat_minor": 2
}
