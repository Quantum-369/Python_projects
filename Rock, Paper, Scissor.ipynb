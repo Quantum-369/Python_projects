{
 "cells": [
  {
   "cell_type": "raw",
   "metadata": {},
   "source": [
    "Here we will take choices from player (Rock, paper, scissor) and computer choices as well and then we compare them act the game rules and we store the score in variable and end of the game we will show the score for users. Here I am defining a function for the game.\n"
   ]
  },
  {
   "cell_type": "code",
   "execution_count": null,
   "metadata": {},
   "outputs": [],
   "source": [
    "# function for game\n",
    "import random\n",
    "\n",
    "choices = [\"Rock\", \"Paper\", \"Scissors\"] # assign choices as list\n",
    "computer = random.choice(choices) # we will assign random choices for computer\n",
    "player = False\n",
    "\n",
    "# Declare score variables and intialize with zero\n",
    "cpu_score = 0  \n",
    "player_score = 0\n",
    "while True:\n",
    "    player = input(\"Rock, Paper or  Scissors?\").capitalize()\n",
    "    ## Conditions of Rock,Paper and Scissors\n",
    "    if player == computer:\n",
    "        print(\"Tie!\")\n",
    "    elif player == \"Rock\":\n",
    "        if computer == \"Paper\":\n",
    "            print(\"You lose!\", computer, \"covers\", player)\n",
    "            cpu_score+=1\n",
    "        else:\n",
    "            print(\"You win!\", player, \"smashes\", computer)\n",
    "            player_score+=1\n",
    "    elif player == \"Paper\":\n",
    "        if computer == \"Scissors\":\n",
    "            print(\"You lose!\", computer, \"cut\", player)\n",
    "            cpu_score+=1\n",
    "        else:\n",
    "            print(\"You win!\", player, \"covers\", computer)\n",
    "            player_score+=1\n",
    "    elif player == \"Scissors\":\n",
    "        if computer == \"Rock\":\n",
    "            print(\"You lose...\", computer, \"smashes\", player)\n",
    "            cpu_score+=1\n",
    "        else:\n",
    "            print(\"You win!\", player, \"cut\", computer)\n",
    "            player_score+=1\n",
    "    elif player=='End':\n",
    "        print(\"Final Scores are as following:\")\n",
    "        print(\"CPU:{}\".format(cpu_score))\n",
    "        print(f\"Player:{player_score}\")\n",
    "        if player_score>cpu_score:\n",
    "            print(\"Hurray! You Won The Game\")\n",
    "        else:\n",
    "            print(\"OOPS! Try next time\")\n",
    "        break"
   ]
  },
  {
   "cell_type": "code",
   "execution_count": null,
   "metadata": {},
   "outputs": [],
   "source": [
    "type(choices)"
   ]
  },
  {
   "cell_type": "code",
   "execution_count": null,
   "metadata": {},
   "outputs": [],
   "source": [
    "type(player)"
   ]
  },
  {
   "cell_type": "code",
   "execution_count": null,
   "metadata": {},
   "outputs": [],
   "source": []
  }
 ],
 "metadata": {
  "kernelspec": {
   "display_name": "Python 3",
   "language": "python",
   "name": "python3"
  },
  "language_info": {
   "codemirror_mode": {
    "name": "ipython",
    "version": 3
   },
   "file_extension": ".py",
   "mimetype": "text/x-python",
   "name": "python",
   "nbconvert_exporter": "python",
   "pygments_lexer": "ipython3",
   "version": "3.7.4"
  }
 },
 "nbformat": 4,
 "nbformat_minor": 2
}
